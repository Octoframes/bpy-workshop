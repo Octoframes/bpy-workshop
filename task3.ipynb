{
 "cells": [
  {
   "cell_type": "markdown",
   "metadata": {},
   "source": [
    "# JS"
   ]
  },
  {
   "cell_type": "code",
   "execution_count": null,
   "metadata": {},
   "outputs": [],
   "source": [
    "import ipywidgets as widgets\n",
    "from IPython.display import display, clear_output\n",
    "\n",
    "import bpy\n",
    "cube = bpy.data.objects['Cube']\n",
    "\n",
    "\n",
    "widget = widgets.FloatSlider(value=0.0, min=0.0, max=5)\n",
    "\n",
    "display(widget)"
   ]
  },
  {
   "cell_type": "code",
   "execution_count": null,
   "metadata": {},
   "outputs": [],
   "source": [
    "cube.location.z = widget.value"
   ]
  },
  {
   "cell_type": "code",
   "execution_count": null,
   "metadata": {},
   "outputs": [],
   "source": [
    "def update_cube_translation(translation_value):\n",
    "    cube.location.z = translation_value\n",
    "    bpy.context.view_layer.update()\n",
    "\n",
    "# Function to handle slider value changes\n",
    "def on_slider_change(change):\n",
    "    update_cube_translation(change['new'])\n",
    "\n",
    "# Observe the slider\n",
    "widget.observe(on_slider_change, names='value')\n",
    "\n",
    "# Initial update of the cube's translation\n",
    "update_cube_translation(widget.value)"
   ]
  },
  {
   "cell_type": "code",
   "execution_count": null,
   "metadata": {},
   "outputs": [],
   "source": [
    "# register a Blender intenal slider"
   ]
  },
  {
   "cell_type": "code",
   "execution_count": null,
   "metadata": {},
   "outputs": [],
   "source": [
    "import bpy\n",
    "\n",
    "# Define a simple slider property\n",
    "bpy.types.Scene.cube_z_position = bpy.props.FloatProperty(\n",
    "    name=\"Cube Z\",\n",
    "    min=0.0,\n",
    "    max=5.0,\n",
    "    default=0.0,\n",
    "    update=lambda self, context: setattr(cube.location, 'z', context.scene.cube_z_position)\n",
    ")\n",
    "\n",
    "# Create the panel in the World tab of the Properties Editor\n",
    "class SimpleCubeSlider(bpy.types.Panel):\n",
    "    bl_label = \"Simple Cube Slider\"\n",
    "    bl_idname = \"WORLD_PT_simple_cube_slider\"\n",
    "    bl_space_type = 'PROPERTIES'\n",
    "    bl_region_type = 'WINDOW'\n",
    "    bl_context = \"world\"  # Places the panel in the World tab\n",
    "\n",
    "    def draw(self, context):\n",
    "        self.layout.prop(context.scene, \"cube_z_position\")\n",
    "\n",
    "# Register the panel\n",
    "bpy.utils.register_class(SimpleCubeSlider)"
   ]
  },
  {
   "cell_type": "code",
   "execution_count": null,
   "metadata": {},
   "outputs": [],
   "source": [
    "import anywidget\n",
    "import traitlets\n",
    "\n",
    "class CounterWidget(anywidget.AnyWidget):\n",
    "    _esm = \"\"\"\n",
    "    function render({ model, el }) {\n",
    "      let button = document.createElement(\"button\");\n",
    "      button.innerHTML = `count is ${model.get(\"value\")}`;\n",
    "      button.addEventListener(\"click\", () => {\n",
    "        model.set(\"value\", model.get(\"value\") + 1);\n",
    "        model.save_changes();\n",
    "      });\n",
    "      model.on(\"change:value\", () => {\n",
    "        button.innerHTML = `count is ${model.get(\"value\")}`;\n",
    "      });\n",
    "      el.classList.add(\"counter-widget\");\n",
    "      el.appendChild(button);\n",
    "    }\n",
    "    export default { render };\n",
    "    \"\"\"\n",
    "    _css = \"\"\"\n",
    "    .counter-widget button { color: white; font-size: 1.75rem; background-color: #ea580c; padding: 0.5rem 1rem; border: none; border-radius: 0.25rem; }\n",
    "    .counter-widget button:hover { background-color: #9a3412; }\n",
    "    \"\"\"\n",
    "    value = traitlets.Int(0).tag(sync=True)\n",
    "\n",
    "widget = CounterWidget(value=-2)\n",
    "widget "
   ]
  },
  {
   "cell_type": "code",
   "execution_count": null,
   "metadata": {},
   "outputs": [],
   "source": [
    "def update_cube_translation(translation_value):\n",
    "    cube.location.z = translation_value\n",
    "    bpy.context.view_layer.update()\n",
    "\n",
    "# Function to handle slider value changes\n",
    "def on_slider_change(change):\n",
    "    update_cube_translation(change['new'])\n",
    "\n",
    "# Observe the slider\n",
    "widget.observe(on_slider_change, names='value')\n",
    "\n",
    "# Initial update of the cube's translation\n",
    "update_cube_translation(widget.value)"
   ]
  },
  {
   "cell_type": "code",
   "execution_count": null,
   "metadata": {},
   "outputs": [],
   "source": []
  }
 ],
 "metadata": {
  "kernelspec": {
   "display_name": ".venv",
   "language": "python",
   "name": "python3"
  },
  "language_info": {
   "codemirror_mode": {
    "name": "ipython",
    "version": 3
   },
   "file_extension": ".py",
   "mimetype": "text/x-python",
   "name": "python",
   "nbconvert_exporter": "python",
   "pygments_lexer": "ipython3",
   "version": "3.11.10"
  }
 },
 "nbformat": 4,
 "nbformat_minor": 2
}
