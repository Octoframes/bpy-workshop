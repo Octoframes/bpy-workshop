{
 "cells": [
  {
   "cell_type": "markdown",
   "metadata": {},
   "source": [
    "# Welcome to Python Notebooks and Blender! 👋\n",
    "\n",
    "This course teaches you all of the tools you need automate repetitive reporting -- starting from the basics: Jupyter, Python and Mito. \n",
    "\n",
    "The course focuses on building Python skills that will be helpful to you in practice, leaving behind a lot of the theoretical explanations you might find in other courses. \n",
    "\n",
    "The goal of this course is to demistify the Python basics so you have the confidence to start applying Python automations in your day-to-day work.\n",
    "\n",
    "Things to know before we start:\n",
    "* 💡 -> the lightbulb emoji means thers an **important information**.\n",
    "* 🧑‍💻 -> the Person Behind Computer emoji means thers an **task** waiting for you.\n",
    "* This is not an exam, it's an opportunity to learn something new. You will get stuck at some point -- don't hesitate to ask questions to the Mito team, your colleagues, or Stack Overflow.\n",
    "* Most imporantly: Enjoy the joureny!"
   ]
  },
  {
   "cell_type": "markdown",
   "metadata": {},
   "source": [
    "## Objects in Blender\n"
   ]
  },
  {
   "cell_type": "code",
   "execution_count": 1,
   "metadata": {},
   "outputs": [],
   "source": [
    "import bpy"
   ]
  },
  {
   "cell_type": "markdown",
   "metadata": {},
   "source": [
    "💡 The below code will select the default cube and create a variable"
   ]
  },
  {
   "cell_type": "code",
   "execution_count": null,
   "metadata": {},
   "outputs": [],
   "source": [
    "cube = bpy.context.active_object\n",
    "print(cube)"
   ]
  },
  {
   "cell_type": "markdown",
   "metadata": {},
   "source": [
    "Now, we display attributes of the cube into the output.   \n",
    "🧑‍💻 Run `cube.location` , `cube.scale` and `len(cube.data.vertices)`.  \n",
    "💡 After writing `cube.` followed by the \"Tab\" key you will get suggestions from auto complete.  \n"
   ]
  },
  {
   "cell_type": "code",
   "execution_count": null,
   "metadata": {},
   "outputs": [],
   "source": [
    "# TODO replace me with your code"
   ]
  },
  {
   "cell_type": "markdown",
   "metadata": {},
   "source": [
    "🧑‍💻  Now, manipulate the cube.\n",
    "1. Set the z location with `cube.location.z = 2`\n",
    "2. Scale the cube with `cube.scale = (1, 1, 2)`\n",
    "3. "
   ]
  },
  {
   "cell_type": "code",
   "execution_count": null,
   "metadata": {},
   "outputs": [],
   "source": [
    "# TODO replace me with your code\n"
   ]
  },
  {
   "cell_type": "markdown",
   "metadata": {},
   "source": [
    "💡 We can also add default objects (torus, monkey, plane, ...) and select them with `obj = bpy.context.active_object`"
   ]
  },
  {
   "cell_type": "code",
   "execution_count": null,
   "metadata": {},
   "outputs": [],
   "source": [
    "bpy.ops.mesh.primitive_monkey_add(size=2.5, location=(0, 0, 3))\n",
    "monkey = bpy.context.active_object\n",
    "\n",
    "bpy.ops.mesh.primitive_torus_add(major_radius=2, minor_radius=0.3, location=(0,0, 2))\n",
    "tours = bpy.context.active_object\n",
    "\n",
    "bpy.ops.mesh.primitive_plane_add(size=3, location=(0, 0, 1.1))  \n",
    "plane = bpy.context.active_object"
   ]
  },
  {
   "cell_type": "markdown",
   "metadata": {},
   "source": [
    "💡 Objects can also be removed"
   ]
  },
  {
   "cell_type": "code",
   "execution_count": null,
   "metadata": {},
   "outputs": [],
   "source": [
    "bpy.data.objects.remove(tours)"
   ]
  },
  {
   "cell_type": "markdown",
   "metadata": {},
   "source": [
    " 🧑‍💻 Now, delete the monkey and the plane as well."
   ]
  },
  {
   "cell_type": "markdown",
   "metadata": {},
   "source": [
    "💡 The below script will randomly place 10 spheres in the scene."
   ]
  },
  {
   "cell_type": "code",
   "execution_count": null,
   "metadata": {},
   "outputs": [],
   "source": [
    "import random\n",
    "\n",
    "for i in range(10):\n",
    "    x = random.uniform(-10, 10)\n",
    "    y = random.uniform(-10, 10)\n",
    "    z = 0\n",
    "    bpy.ops.mesh.primitive_uv_sphere_add(radius=1, location=(x, y, z))"
   ]
  },
  {
   "cell_type": "markdown",
   "metadata": {},
   "source": [
    " 🧑‍💻 Now, run the above cell 5 times."
   ]
  },
  {
   "cell_type": "markdown",
   "metadata": {},
   "source": [
    "💡 Executing the cell multiple times will add objects multiple times.   \n",
    "  Therefore, it's good to clear the whole scene from time to time.\n",
    "\n",
    "🚨 The below cell will delete everything from your scene."
   ]
  },
  {
   "cell_type": "code",
   "execution_count": 2,
   "metadata": {},
   "outputs": [],
   "source": [
    "def fresh_scene():\n",
    "    # Deselect and delete all objects except cameras and lights\n",
    "    bpy.ops.object.select_all(action='DESELECT')\n",
    "    for obj in bpy.context.scene.objects:\n",
    "        if obj.type not in {'CAMERA', 'LIGHT'}:\n",
    "            obj.select_set(True)\n",
    "    bpy.ops.object.delete()\n",
    "\n",
    "fresh_scene()"
   ]
  },
  {
   "cell_type": "markdown",
   "metadata": {},
   "source": [
    "💡 Objects will show up in our scene collection. We can also give them names."
   ]
  },
  {
   "cell_type": "code",
   "execution_count": null,
   "metadata": {},
   "outputs": [],
   "source": [
    "fresh_scene()\n",
    "cube_names = [\"Foo\", \"Bar\", \"Baz\", \"Qux\"]\n",
    "for i, name in enumerate(cube_names):\n",
    "    bpy.ops.mesh.primitive_cube_add(location=(i * 3, 0, 0))  \n",
    "    cube = bpy.context.object                                     \n",
    "    cube.name = name                        "
   ]
  },
  {
   "cell_type": "markdown",
   "metadata": {},
   "source": [
    "💡 And we can apply modifiers to change the appearance.\n"
   ]
  },
  {
   "cell_type": "code",
   "execution_count": null,
   "metadata": {},
   "outputs": [],
   "source": [
    "cube_names = [\"Foo\", \"Bar\", \"Baz\", \"Qux\"]\n",
    "\n",
    "for name in cube_names:\n",
    "    cube = bpy.data.objects.get(name)\n",
    "    if cube:   # Check if the cube exists\n",
    "        bevel_modifier = cube.modifiers.new(name=\"Bevel\", type='BEVEL')\n",
    "        bevel_modifier.width = 0.5\n",
    "        bevel_modifier.segments = 3"
   ]
  },
  {
   "cell_type": "markdown",
   "metadata": {},
   "source": [
    "💡 Running the above cell multiple times will add modifiers on top of each other and should be avoided.  \n",
    "🧑‍💻 Try changing the bevel width in the below cell for two values."
   ]
  },
  {
   "cell_type": "code",
   "execution_count": null,
   "metadata": {},
   "outputs": [],
   "source": [
    "for name in cube_names:\n",
    "    cube = bpy.data.objects.get(name)\n",
    "    if cube: # Check if the cube exists\n",
    "        for modifier in cube.modifiers:\n",
    "            if modifier.type == 'BEVEL':\n",
    "                modifier.width = 0.2"
   ]
  },
  {
   "cell_type": "markdown",
   "metadata": {},
   "source": [
    "💡 Finally, modifiers can also be removed like this:"
   ]
  },
  {
   "cell_type": "code",
   "execution_count": null,
   "metadata": {},
   "outputs": [],
   "source": [
    "cube_names = [\"Foo\", \"Bar\", \"Baz\", \"Qux\"]\n",
    "\n",
    "for name in cube_names:\n",
    "    cube = bpy.data.objects.get(name)\n",
    "    if cube: # Check if the cube exists\n",
    "        cube.modifiers.clear()"
   ]
  },
  {
   "cell_type": "markdown",
   "metadata": {},
   "source": [
    " 🧑‍💻 Now make a simple histogram using 20 cylinders.\n",
    "* The cylinders should be be placed on the x axis.\n",
    "* the Height should be a random value between 3 and 5  \n",
    "  \n",
    " **Hint**: use `bpy.ops.mesh.primitive_cylinder_add(radius=0.5, depth=2, location=(0,1,0))` to add a cylinder"
   ]
  },
  {
   "cell_type": "code",
   "execution_count": null,
   "metadata": {},
   "outputs": [],
   "source": [
    "# TODO replace me with your code\n"
   ]
  },
  {
   "cell_type": "code",
   "execution_count": null,
   "metadata": {},
   "outputs": [],
   "source": [
    "# TODO ONLY IN TUTOR VERSION\n",
    "fresh_scene()\n",
    "for i in range(0,7):\n",
    "    z = random.uniform(4, 10)\n",
    "    bpy.ops.mesh.primitive_cylinder_add(radius=0.5, depth=z, location=(0,i,z/2))"
   ]
  },
  {
   "cell_type": "markdown",
   "metadata": {},
   "source": [
    "💡 We can also create a collection and put the objects into it."
   ]
  },
  {
   "cell_type": "code",
   "execution_count": null,
   "metadata": {},
   "outputs": [],
   "source": [
    "fresh_scene()\n",
    "\n",
    "# Create the Histogram collection\n",
    "histo_collection = bpy.data.collections.new(\"Histogram\")\n",
    "bpy.context.scene.collection.children.link(histo_collection)\n",
    "\n",
    "# Create 5 spheres, name them, and link each to the Histogram collection\n",
    "for i in range(5):\n",
    "    bpy.ops.mesh.primitive_uv_sphere_add(radius=0.5, location=(i * 2, 0, 0))\n",
    "    sphere = bpy.context.object\n",
    "    sphere.name = f\"Sphere_{i+1}\"\n",
    "    histo_collection.objects.link(sphere)\n",
    "    \n",
    "    # Unlink the sphere from all other collections\n",
    "    for collection in sphere.users_collection:\n",
    "        if collection != histo_collection:\n",
    "            collection.objects.unlink(sphere)"
   ]
  },
  {
   "cell_type": "markdown",
   "metadata": {},
   "source": [
    "💡 Delete the Histogram collection and all objects within it"
   ]
  },
  {
   "cell_type": "code",
   "execution_count": null,
   "metadata": {},
   "outputs": [],
   "source": [
    "# Delete the Histogram collection and all objects within it\n",
    "bpy.data.collections.remove(histo_collection)"
   ]
  },
  {
   "cell_type": "markdown",
   "metadata": {},
   "source": [
    "# Using Python Packages"
   ]
  },
  {
   "cell_type": "markdown",
   "metadata": {},
   "source": [
    "Let's use Python packages to generate data.  \n",
    "💡 We can install packages using uv"
   ]
  },
  {
   "cell_type": "code",
   "execution_count": 3,
   "metadata": {},
   "outputs": [
    {
     "name": "stdout",
     "output_type": "stream",
     "text": [
      "\u001b[2mUsing Python 3.11.10 environment at /Users/jan-hendrik/Desktop/blender_python_workshop/.venv\u001b[0m\n",
      "\u001b[2mAudited \u001b[1m1 package\u001b[0m \u001b[2min 7ms\u001b[0m\u001b[0m\n"
     ]
    }
   ],
   "source": [
    "!uv pip install numpy"
   ]
  },
  {
   "cell_type": "markdown",
   "metadata": {},
   "source": [
    "💡 We can import a package and make a gaussian mesh"
   ]
  },
  {
   "cell_type": "code",
   "execution_count": 43,
   "metadata": {},
   "outputs": [],
   "source": [
    "import numpy as np\n",
    "sigma = 2\n",
    "x = np.linspace(-5, 5, 20)\n",
    "y = np.linspace(-5, 5, 20)\n",
    "x, y = np.meshgrid(x, y)\n",
    "z = 2 * np.exp(-(x**2 + y**2) / (2 * sigma**2))"
   ]
  },
  {
   "cell_type": "markdown",
   "metadata": {},
   "source": [
    "💡 We can now add sphere by sphere, but that's slow"
   ]
  },
  {
   "cell_type": "code",
   "execution_count": 44,
   "metadata": {},
   "outputs": [],
   "source": [
    "fresh_scene()\n",
    "# Flatten the arrays and use zip to iterate over coordinates\n",
    "for xi, yi, zi in zip(x.flatten(), y.flatten(), z.flatten()):\n",
    "    bpy.ops.mesh.primitive_uv_sphere_add(radius=0.1, location=(xi, yi, zi))"
   ]
  },
  {
   "cell_type": "markdown",
   "metadata": {},
   "source": [
    "💡 Instead we can use a Mesh, and save verices in a point cloud!"
   ]
  },
  {
   "cell_type": "code",
   "execution_count": 46,
   "metadata": {},
   "outputs": [],
   "source": [
    "fresh_scene()\n",
    "\n",
    "import mathutils\n",
    "# Flatten the arrays and combine into a list of vectors\n",
    "points = [mathutils.Vector((xi, yi, zi)) for xi, yi, zi in zip(x.flatten(), y.flatten(), z.flatten())]\n",
    "\n",
    "# Create a new mesh and object for the point cloud\n",
    "mesh = bpy.data.meshes.new(\"PointCloudMesh\")\n",
    "point_obj = bpy.data.objects.new(\"PointCloud\", mesh)\n",
    "\n",
    "# Apply the points to the mesh\n",
    "mesh.from_pydata(points, edges=[], faces=[])\n",
    "mesh.update()\n",
    "bpy.context.collection.objects.link(point_obj)"
   ]
  },
  {
   "cell_type": "markdown",
   "metadata": {},
   "source": [
    "Here, we have a wave field:"
   ]
  },
  {
   "cell_type": "code",
   "execution_count": 64,
   "metadata": {},
   "outputs": [],
   "source": [
    "fresh_scene()\n",
    "\n",
    "amplitude = 1 \n",
    "\n",
    "# Generate x and y arrays\n",
    "x = np.linspace(-10, 10, 150)\n",
    "y = np.linspace(-10, 10, 150)\n",
    "x, y = np.meshgrid(x, y)\n",
    "z = amplitude * np.sin (x) * np.cos(y) \n",
    "\n",
    "# Flatten the arrays and combine into a list of vectors\n",
    "points = [mathutils.Vector((xi, yi, zi)) for xi, yi, zi in zip(x.flatten(), y.flatten(), z.flatten())]\n",
    "\n",
    "# Create a new mesh and object for the point cloud\n",
    "mesh = bpy.data.meshes.new(\"PointCloudMesh\")\n",
    "point_obj = bpy.data.objects.new(\"PointCloud\", mesh)\n",
    "\n",
    "# Apply the points to the mesh\n",
    "mesh.from_pydata(points, edges=[], faces=[])\n",
    "mesh.update()\n",
    "bpy.context.collection.objects.link(point_obj)"
   ]
  },
  {
   "cell_type": "code",
   "execution_count": 65,
   "metadata": {},
   "outputs": [],
   "source": [
    "amplitude = 3\n",
    "z = amplitude * np.sin(x) * np.cos(y)\n",
    "points = [mathutils.Vector((xi, yi, zi)) for xi, yi, zi in zip(x.flatten(), y.flatten(), z.flatten())]\n",
    "\n",
    "# Update the existing mesh with the new points\n",
    "mesh.clear_geometry()  # Clear existing geometry\n",
    "mesh.from_pydata(points, edges=[], faces=[])\n",
    "mesh.update()"
   ]
  },
  {
   "cell_type": "code",
   "execution_count": 72,
   "metadata": {},
   "outputs": [
    {
     "data": {
      "text/html": [
       "<div>\n",
       "<style scoped>\n",
       "    .dataframe tbody tr th:only-of-type {\n",
       "        vertical-align: middle;\n",
       "    }\n",
       "\n",
       "    .dataframe tbody tr th {\n",
       "        vertical-align: top;\n",
       "    }\n",
       "\n",
       "    .dataframe thead th {\n",
       "        text-align: right;\n",
       "    }\n",
       "</style>\n",
       "<table border=\"1\" class=\"dataframe\">\n",
       "  <thead>\n",
       "    <tr style=\"text-align: right;\">\n",
       "      <th></th>\n",
       "      <th>city</th>\n",
       "      <th>lat</th>\n",
       "      <th>lng</th>\n",
       "      <th>country</th>\n",
       "      <th>iso2</th>\n",
       "      <th>admin_name</th>\n",
       "      <th>capital</th>\n",
       "      <th>population</th>\n",
       "      <th>population_proper</th>\n",
       "    </tr>\n",
       "  </thead>\n",
       "  <tbody>\n",
       "    <tr>\n",
       "      <th>0</th>\n",
       "      <td>Berlin</td>\n",
       "      <td>52.5200</td>\n",
       "      <td>13.4050</td>\n",
       "      <td>Germany</td>\n",
       "      <td>DE</td>\n",
       "      <td>Berlin</td>\n",
       "      <td>primary</td>\n",
       "      <td>4890363.0</td>\n",
       "      <td>3755251.0</td>\n",
       "    </tr>\n",
       "    <tr>\n",
       "      <th>1</th>\n",
       "      <td>Stuttgart</td>\n",
       "      <td>48.7775</td>\n",
       "      <td>9.1800</td>\n",
       "      <td>Germany</td>\n",
       "      <td>DE</td>\n",
       "      <td>Baden-Württemberg</td>\n",
       "      <td>admin</td>\n",
       "      <td>2787724.0</td>\n",
       "      <td>632865.0</td>\n",
       "    </tr>\n",
       "    <tr>\n",
       "      <th>2</th>\n",
       "      <td>Munich</td>\n",
       "      <td>48.1375</td>\n",
       "      <td>11.5750</td>\n",
       "      <td>Germany</td>\n",
       "      <td>DE</td>\n",
       "      <td>Bavaria</td>\n",
       "      <td>admin</td>\n",
       "      <td>2606021.0</td>\n",
       "      <td>1512491.0</td>\n",
       "    </tr>\n",
       "    <tr>\n",
       "      <th>3</th>\n",
       "      <td>Hamburg</td>\n",
       "      <td>53.5500</td>\n",
       "      <td>10.0000</td>\n",
       "      <td>Germany</td>\n",
       "      <td>DE</td>\n",
       "      <td>Hamburg</td>\n",
       "      <td>admin</td>\n",
       "      <td>2484800.0</td>\n",
       "      <td>1892122.0</td>\n",
       "    </tr>\n",
       "    <tr>\n",
       "      <th>4</th>\n",
       "      <td>Cologne</td>\n",
       "      <td>50.9364</td>\n",
       "      <td>6.9528</td>\n",
       "      <td>Germany</td>\n",
       "      <td>DE</td>\n",
       "      <td>North Rhine-Westphalia</td>\n",
       "      <td>NaN</td>\n",
       "      <td>1084831.0</td>\n",
       "      <td>1084831.0</td>\n",
       "    </tr>\n",
       "    <tr>\n",
       "      <th>...</th>\n",
       "      <td>...</td>\n",
       "      <td>...</td>\n",
       "      <td>...</td>\n",
       "      <td>...</td>\n",
       "      <td>...</td>\n",
       "      <td>...</td>\n",
       "      <td>...</td>\n",
       "      <td>...</td>\n",
       "      <td>...</td>\n",
       "    </tr>\n",
       "    <tr>\n",
       "      <th>124</th>\n",
       "      <td>Altbach</td>\n",
       "      <td>48.7239</td>\n",
       "      <td>9.3797</td>\n",
       "      <td>Germany</td>\n",
       "      <td>DE</td>\n",
       "      <td>Baden-Württemberg</td>\n",
       "      <td>NaN</td>\n",
       "      <td>6422.0</td>\n",
       "      <td>6422.0</td>\n",
       "    </tr>\n",
       "    <tr>\n",
       "      <th>125</th>\n",
       "      <td>Merzhausen</td>\n",
       "      <td>47.9664</td>\n",
       "      <td>7.8286</td>\n",
       "      <td>Germany</td>\n",
       "      <td>DE</td>\n",
       "      <td>Baden-Württemberg</td>\n",
       "      <td>NaN</td>\n",
       "      <td>5347.0</td>\n",
       "      <td>5347.0</td>\n",
       "    </tr>\n",
       "    <tr>\n",
       "      <th>126</th>\n",
       "      <td>Buckenhof</td>\n",
       "      <td>49.5939</td>\n",
       "      <td>11.0500</td>\n",
       "      <td>Germany</td>\n",
       "      <td>DE</td>\n",
       "      <td>Bavaria</td>\n",
       "      <td>NaN</td>\n",
       "      <td>3157.0</td>\n",
       "      <td>3157.0</td>\n",
       "    </tr>\n",
       "    <tr>\n",
       "      <th>127</th>\n",
       "      <td>Offenbach</td>\n",
       "      <td>50.1006</td>\n",
       "      <td>8.7665</td>\n",
       "      <td>Germany</td>\n",
       "      <td>DE</td>\n",
       "      <td>Hesse</td>\n",
       "      <td>minor</td>\n",
       "      <td>NaN</td>\n",
       "      <td>NaN</td>\n",
       "    </tr>\n",
       "    <tr>\n",
       "      <th>128</th>\n",
       "      <td>Erfurt</td>\n",
       "      <td>50.9781</td>\n",
       "      <td>11.0289</td>\n",
       "      <td>Germany</td>\n",
       "      <td>DE</td>\n",
       "      <td>Thuringia</td>\n",
       "      <td>admin</td>\n",
       "      <td>NaN</td>\n",
       "      <td>NaN</td>\n",
       "    </tr>\n",
       "  </tbody>\n",
       "</table>\n",
       "<p>129 rows × 9 columns</p>\n",
       "</div>"
      ],
      "text/plain": [
       "           city      lat      lng  country iso2              admin_name  \\\n",
       "0        Berlin  52.5200  13.4050  Germany   DE                  Berlin   \n",
       "1     Stuttgart  48.7775   9.1800  Germany   DE       Baden-Württemberg   \n",
       "2        Munich  48.1375  11.5750  Germany   DE                 Bavaria   \n",
       "3       Hamburg  53.5500  10.0000  Germany   DE                 Hamburg   \n",
       "4       Cologne  50.9364   6.9528  Germany   DE  North Rhine-Westphalia   \n",
       "..          ...      ...      ...      ...  ...                     ...   \n",
       "124     Altbach  48.7239   9.3797  Germany   DE       Baden-Württemberg   \n",
       "125  Merzhausen  47.9664   7.8286  Germany   DE       Baden-Württemberg   \n",
       "126   Buckenhof  49.5939  11.0500  Germany   DE                 Bavaria   \n",
       "127   Offenbach  50.1006   8.7665  Germany   DE                   Hesse   \n",
       "128      Erfurt  50.9781  11.0289  Germany   DE               Thuringia   \n",
       "\n",
       "     capital  population  population_proper  \n",
       "0    primary   4890363.0          3755251.0  \n",
       "1      admin   2787724.0           632865.0  \n",
       "2      admin   2606021.0          1512491.0  \n",
       "3      admin   2484800.0          1892122.0  \n",
       "4        NaN   1084831.0          1084831.0  \n",
       "..       ...         ...                ...  \n",
       "124      NaN      6422.0             6422.0  \n",
       "125      NaN      5347.0             5347.0  \n",
       "126      NaN      3157.0             3157.0  \n",
       "127    minor         NaN                NaN  \n",
       "128    admin         NaN                NaN  \n",
       "\n",
       "[129 rows x 9 columns]"
      ]
     },
     "execution_count": 72,
     "metadata": {},
     "output_type": "execute_result"
    }
   ],
   "source": [
    "import pandas as pd\n",
    "url = 'https://simplemaps.com/static/data/country-cities/de/de.csv'\n",
    "df = pd.read_csv(url)\n",
    "df\n"
   ]
  },
  {
   "cell_type": "code",
   "execution_count": 73,
   "metadata": {},
   "outputs": [
    {
     "name": "stdout",
     "output_type": "stream",
     "text": [
      "         lat      lng  population_proper\n",
      "0    52.5200  13.4050          3755251.0\n",
      "1    48.7775   9.1800           632865.0\n",
      "2    48.1375  11.5750          1512491.0\n",
      "3    53.5500  10.0000          1892122.0\n",
      "4    50.9364   6.9528          1084831.0\n",
      "..       ...      ...                ...\n",
      "124  48.7239   9.3797             6422.0\n",
      "125  47.9664   7.8286             5347.0\n",
      "126  49.5939  11.0500             3157.0\n",
      "127  50.1006   8.7665                NaN\n",
      "128  50.9781  11.0289                NaN\n",
      "\n",
      "[129 rows x 3 columns]\n"
     ]
    }
   ],
   "source": [
    "selected_columns = df[['lat', 'lng', 'population_proper']]\n",
    "print(selected_columns)"
   ]
  },
  {
   "cell_type": "code",
   "execution_count": 68,
   "metadata": {},
   "outputs": [
    {
     "name": "stdout",
     "output_type": "stream",
     "text": [
      "\u001b[2mUsing Python 3.11.10 environment at /Users/jan-hendrik/Desktop/blender_python_workshop/.venv\u001b[0m\n",
      "\u001b[2mAudited \u001b[1m1 package\u001b[0m \u001b[2min 2ms\u001b[0m\u001b[0m\n"
     ]
    }
   ],
   "source": [
    "!uv pip install pandas"
   ]
  },
  {
   "cell_type": "code",
   "execution_count": null,
   "metadata": {},
   "outputs": [],
   "source": [
    "1. render within notebook\n",
    "2. "
   ]
  },
  {
   "cell_type": "markdown",
   "metadata": {},
   "source": [
    "# Now it's time to add Geometry nodes!"
   ]
  }
 ],
 "metadata": {
  "kernelspec": {
   "display_name": "blender",
   "language": "python",
   "name": "blender"
  },
  "language_info": {
   "codemirror_mode": {
    "name": "ipython",
    "version": 3
   },
   "file_extension": ".py",
   "mimetype": "text/x-python",
   "name": "python",
   "nbconvert_exporter": "python",
   "pygments_lexer": "ipython3",
   "version": "3.11.7"
  }
 },
 "nbformat": 4,
 "nbformat_minor": 2
}
