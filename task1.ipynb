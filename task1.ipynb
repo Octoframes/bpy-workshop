{
 "cells": [
  {
   "cell_type": "markdown",
   "metadata": {},
   "source": [
    "# Welcome to Python Notebooks and Blender! 👋\n",
    "\n",
    "This course teaches you all of the tools you need automate repetitive reporting -- starting from the basics: Jupyter, Python and Mito. \n",
    "\n",
    "The course focuses on building Python skills that will be helpful to you in practice, leaving behind a lot of the theoretical explanations you might find in other courses. \n",
    "\n",
    "The goal of this course is to demistify the Python basics so you have the confidence to start applying Python automations in your day-to-day work.\n",
    "\n",
    "Things to know before we start:\n",
    "* 💡 -> the lightbulb emoji means thers an **important information**.\n",
    "* 🧑‍💻 -> the Person Behind Computer emoji means thers an **task** waiting for you.\n",
    "* This is not an exam, it's an opportunity to learn something new. You will get stuck at some point -- don't hesitate to ask questions to the Mito team, your colleagues, or Stack Overflow.\n",
    "* Most imporantly: Enjoy the joureny!"
   ]
  },
  {
   "cell_type": "markdown",
   "metadata": {},
   "source": [
    "## Objects in Blender\n"
   ]
  },
  {
   "cell_type": "code",
   "execution_count": 1,
   "metadata": {},
   "outputs": [],
   "source": [
    "import bpy"
   ]
  },
  {
   "cell_type": "markdown",
   "metadata": {},
   "source": [
    "💡 The below code will select the default cube and create a variable"
   ]
  },
  {
   "cell_type": "code",
   "execution_count": null,
   "metadata": {},
   "outputs": [],
   "source": [
    "cube = bpy.context.active_object\n",
    "print(cube)"
   ]
  },
  {
   "cell_type": "markdown",
   "metadata": {},
   "source": [
    "Now, we display attributes of the cube into the output.   \n",
    "🧑‍💻 Run `cube.location` , `cube.scale` and `len(cube.data.vertices)`.  \n",
    "💡 After writing `cube.` followed by the \"Tab\" key you will get suggestions from auto complete.  \n"
   ]
  },
  {
   "cell_type": "code",
   "execution_count": null,
   "metadata": {},
   "outputs": [],
   "source": [
    "# TODO replace me with your code"
   ]
  },
  {
   "cell_type": "markdown",
   "metadata": {},
   "source": [
    "🧑‍💻  Now, manipulate the cube.\n",
    "1. Set the z location with `cube.location.z = 2`\n",
    "2. Scale the cube with `cube.scale = (1, 1, 2)`\n",
    "3. "
   ]
  },
  {
   "cell_type": "code",
   "execution_count": null,
   "metadata": {},
   "outputs": [],
   "source": [
    "# TODO replace me with your code\n"
   ]
  },
  {
   "cell_type": "markdown",
   "metadata": {},
   "source": [
    "💡 We can also add default objects (torus, monkey, plane, ...) and select them with `obj = bpy.context.active_object`"
   ]
  },
  {
   "cell_type": "code",
   "execution_count": null,
   "metadata": {},
   "outputs": [],
   "source": [
    "bpy.ops.mesh.primitive_monkey_add(size=2.5, location=(0, 0, 3))\n",
    "monkey = bpy.context.active_object\n",
    "\n",
    "bpy.ops.mesh.primitive_torus_add(major_radius=2, minor_radius=0.3, location=(0,0, 2))\n",
    "tours = bpy.context.active_object\n",
    "\n",
    "bpy.ops.mesh.primitive_plane_add(size=3, location=(0, 0, 1.1))  \n",
    "plane = bpy.context.active_object"
   ]
  },
  {
   "cell_type": "markdown",
   "metadata": {},
   "source": [
    "💡 Objects can also be removed"
   ]
  },
  {
   "cell_type": "code",
   "execution_count": null,
   "metadata": {},
   "outputs": [],
   "source": [
    "bpy.data.objects.remove(tours)"
   ]
  },
  {
   "cell_type": "markdown",
   "metadata": {},
   "source": [
    " 🧑‍💻 Now, delete the monkey and the plane as well."
   ]
  },
  {
   "cell_type": "markdown",
   "metadata": {},
   "source": [
    "💡 The below script will randomly place 10 spheres in the scene."
   ]
  },
  {
   "cell_type": "code",
   "execution_count": null,
   "metadata": {},
   "outputs": [],
   "source": [
    "import random\n",
    "\n",
    "for i in range(10):\n",
    "    x = random.uniform(-10, 10)\n",
    "    y = random.uniform(-10, 10)\n",
    "    z = 0\n",
    "    bpy.ops.mesh.primitive_uv_sphere_add(radius=1, location=(x, y, z))"
   ]
  },
  {
   "cell_type": "markdown",
   "metadata": {},
   "source": [
    " 🧑‍💻 Now, run the above cell 5 times."
   ]
  },
  {
   "cell_type": "markdown",
   "metadata": {},
   "source": [
    "💡 Executing the cell multiple times will add objects multiple times.   \n",
    "  Therefore, it's good to clear the whole scene from time to time.\n",
    "\n",
    "🚨 The below cell will delete everything from your scene."
   ]
  },
  {
   "cell_type": "code",
   "execution_count": 2,
   "metadata": {},
   "outputs": [],
   "source": [
    "def fresh_scene():\n",
    "    # Deselect and delete all objects except cameras and lights\n",
    "    bpy.ops.object.select_all(action='DESELECT')\n",
    "    for obj in bpy.context.scene.objects:\n",
    "        if obj.type not in {'CAMERA', 'LIGHT'}:\n",
    "            obj.select_set(True)\n",
    "    bpy.ops.object.delete()\n",
    "\n",
    "fresh_scene()"
   ]
  },
  {
   "cell_type": "markdown",
   "metadata": {},
   "source": [
    "💡 Objects will show up in our scene collection. We can also give them names."
   ]
  },
  {
   "cell_type": "code",
   "execution_count": null,
   "metadata": {},
   "outputs": [],
   "source": [
    "fresh_scene()\n",
    "cube_names = [\"Foo\", \"Bar\", \"Baz\", \"Qux\"]\n",
    "for i, name in enumerate(cube_names):\n",
    "    bpy.ops.mesh.primitive_cube_add(location=(i * 3, 0, 0))  \n",
    "    cube = bpy.context.object                                     \n",
    "    cube.name = name                        "
   ]
  },
  {
   "cell_type": "markdown",
   "metadata": {},
   "source": [
    "💡 And we can apply modifiers to change the appearance.\n"
   ]
  },
  {
   "cell_type": "code",
   "execution_count": null,
   "metadata": {},
   "outputs": [],
   "source": [
    "cube_names = [\"Foo\", \"Bar\", \"Baz\", \"Qux\"]\n",
    "\n",
    "for name in cube_names:\n",
    "    cube = bpy.data.objects.get(name)\n",
    "    if cube:   # Check if the cube exists\n",
    "        bevel_modifier = cube.modifiers.new(name=\"Bevel\", type='BEVEL')\n",
    "        bevel_modifier.width = 0.5\n",
    "        bevel_modifier.segments = 3"
   ]
  },
  {
   "cell_type": "markdown",
   "metadata": {},
   "source": [
    "💡 Running the above cell multiple times will add modifiers on top of each other and should be avoided.  \n",
    "🧑‍💻 Try changing the bevel width in the below cell for two values."
   ]
  },
  {
   "cell_type": "code",
   "execution_count": null,
   "metadata": {},
   "outputs": [],
   "source": [
    "for name in cube_names:\n",
    "    cube = bpy.data.objects.get(name)\n",
    "    if cube: # Check if the cube exists\n",
    "        for modifier in cube.modifiers:\n",
    "            if modifier.type == 'BEVEL':\n",
    "                modifier.width = 0.2"
   ]
  },
  {
   "cell_type": "markdown",
   "metadata": {},
   "source": [
    "💡 Finally, modifiers can also be removed like this:"
   ]
  },
  {
   "cell_type": "code",
   "execution_count": null,
   "metadata": {},
   "outputs": [],
   "source": [
    "cube_names = [\"Foo\", \"Bar\", \"Baz\", \"Qux\"]\n",
    "\n",
    "for name in cube_names:\n",
    "    cube = bpy.data.objects.get(name)\n",
    "    if cube: # Check if the cube exists\n",
    "        cube.modifiers.clear()"
   ]
  },
  {
   "cell_type": "markdown",
   "metadata": {},
   "source": [
    " 🧑‍💻 Now make a simple histogram using 20 cylinders.\n",
    "* The cylinders should be be placed on the x axis.\n",
    "* the Height should be a random value between 3 and 5  \n",
    "  \n",
    " **Hint**: use `bpy.ops.mesh.primitive_cylinder_add(radius=0.5, depth=2, location=(0,1,0))` to add a cylinder"
   ]
  },
  {
   "cell_type": "code",
   "execution_count": null,
   "metadata": {},
   "outputs": [],
   "source": [
    "# TODO replace me with your code\n"
   ]
  },
  {
   "cell_type": "code",
   "execution_count": null,
   "metadata": {},
   "outputs": [],
   "source": [
    "# TODO ONLY IN TUTOR VERSION\n",
    "fresh_scene()\n",
    "for i in range(0,7):\n",
    "    z = random.uniform(4, 10)\n",
    "    bpy.ops.mesh.primitive_cylinder_add(radius=0.5, depth=z, location=(0,i,z/2))"
   ]
  },
  {
   "cell_type": "markdown",
   "metadata": {},
   "source": [
    "💡 We can also create a collection and put the objects into it."
   ]
  },
  {
   "cell_type": "code",
   "execution_count": null,
   "metadata": {},
   "outputs": [],
   "source": [
    "fresh_scene()\n",
    "\n",
    "# Create the Histogram collection\n",
    "histo_collection = bpy.data.collections.new(\"Histogram\")\n",
    "bpy.context.scene.collection.children.link(histo_collection)\n",
    "\n",
    "# Create 5 spheres, name them, and link each to the Histogram collection\n",
    "for i in range(5):\n",
    "    bpy.ops.mesh.primitive_uv_sphere_add(radius=0.5, location=(i * 2, 0, 0))\n",
    "    sphere = bpy.context.object\n",
    "    sphere.name = f\"Sphere_{i+1}\"\n",
    "    histo_collection.objects.link(sphere)\n",
    "    \n",
    "    # Unlink the sphere from all other collections\n",
    "    for collection in sphere.users_collection:\n",
    "        if collection != histo_collection:\n",
    "            collection.objects.unlink(sphere)"
   ]
  },
  {
   "cell_type": "markdown",
   "metadata": {},
   "source": [
    "💡 Delete the Histogram collection and all objects within it"
   ]
  },
  {
   "cell_type": "code",
   "execution_count": null,
   "metadata": {},
   "outputs": [],
   "source": [
    "# Delete the Histogram collection and all objects within it\n",
    "bpy.data.collections.remove(histo_collection)"
   ]
  },
  {
   "cell_type": "markdown",
   "metadata": {},
   "source": [
    "# Using Python Packages"
   ]
  },
  {
   "cell_type": "markdown",
   "metadata": {},
   "source": [
    "Let's use Python packages to generate data.  \n",
    "💡 We can install packages using uv"
   ]
  },
  {
   "cell_type": "code",
   "execution_count": 3,
   "metadata": {},
   "outputs": [
    {
     "name": "stdout",
     "output_type": "stream",
     "text": [
      "\u001b[2mUsing Python 3.11.10 environment at /Users/jan-hendrik/Desktop/blender_python_workshop/.venv\u001b[0m\n",
      "\u001b[2mAudited \u001b[1m1 package\u001b[0m \u001b[2min 7ms\u001b[0m\u001b[0m\n"
     ]
    }
   ],
   "source": [
    "!uv pip install numpy"
   ]
  },
  {
   "cell_type": "markdown",
   "metadata": {},
   "source": [
    "💡 We can import a package and make a gaussian mesh"
   ]
  },
  {
   "cell_type": "code",
   "execution_count": 20,
   "metadata": {},
   "outputs": [],
   "source": [
    "import numpy as np\n",
    "sigma = 2\n",
    "x = np.linspace(-5, 5, 30)\n",
    "y = np.linspace(-5, 5, 30)\n",
    "x, y = np.meshgrid(x, y)\n",
    "z = 2 * np.exp(-(x**2 + y**2) / (2 * sigma**2))"
   ]
  },
  {
   "cell_type": "markdown",
   "metadata": {},
   "source": [
    "💡 We can now add sphere by sphere, but that's slow"
   ]
  },
  {
   "cell_type": "code",
   "execution_count": 21,
   "metadata": {},
   "outputs": [],
   "source": [
    "fresh_scene()\n",
    "# Flatten the arrays and use zip to iterate over coordinates\n",
    "for xi, yi, zi in zip(x.flatten(), y.flatten(), z.flatten()):\n",
    "    bpy.ops.mesh.primitive_uv_sphere_add(radius=0.1, location=(xi, yi, zi))"
   ]
  },
  {
   "cell_type": "markdown",
   "metadata": {},
   "source": [
    "💡 Instead we can use a Mesh, and save verices in a point cloud!"
   ]
  },
  {
   "cell_type": "code",
   "execution_count": 23,
   "metadata": {},
   "outputs": [],
   "source": [
    "fresh_scene()\n",
    "\n",
    "import mathutils\n",
    "# Flatten the arrays and combine into a list of vectors\n",
    "points = [mathutils.Vector((xi, yi, zi)) for xi, yi, zi in zip(x.flatten(), y.flatten(), z.flatten())]\n",
    "\n",
    "# Create a new mesh and object for the point cloud\n",
    "mesh = bpy.data.meshes.new(\"PointCloudMesh\")\n",
    "point_obj = bpy.data.objects.new(\"PointCloud\", mesh)\n",
    "\n",
    "# Apply the points to the mesh\n",
    "mesh.from_pydata(points, edges=[], faces=[])\n",
    "mesh.update()\n",
    "bpy.context.collection.objects.link(point_obj)"
   ]
  },
  {
   "cell_type": "markdown",
   "metadata": {},
   "source": [
    "# Now it's time to add Geometry nodes!"
   ]
  },
  {
   "cell_type": "code",
   "execution_count": null,
   "metadata": {},
   "outputs": [],
   "source": [
    "https://simplemaps.com/static/data/country-cities/de/de.csv"
   ]
  }
 ],
 "metadata": {
  "kernelspec": {
   "display_name": "blender",
   "language": "python",
   "name": "blender"
  },
  "language_info": {
   "codemirror_mode": {
    "name": "ipython",
    "version": 3
   },
   "file_extension": ".py",
   "mimetype": "text/x-python",
   "name": "python",
   "nbconvert_exporter": "python",
   "pygments_lexer": "ipython3",
   "version": "3.11.7"
  }
 },
 "nbformat": 4,
 "nbformat_minor": 2
}
