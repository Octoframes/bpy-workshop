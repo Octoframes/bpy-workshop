{
 "cells": [
  {
   "cell_type": "markdown",
   "metadata": {},
   "source": [
    "# Welcome to Python Notebooks and Blender! 👋\n",
    "\n",
    "This course teaches you all of the tools you need automate repetitive reporting -- starting from the basics: Jupyter, Python and Mito. \n",
    "\n",
    "The course focuses on building Python skills that will be helpful to you in practice, leaving behind a lot of the theoretical explanations you might find in other courses. \n",
    "\n",
    "The goal of this course is to demistify the Python basics so you have the confidence to start applying Python automations in your day-to-day work.\n",
    "\n",
    "Things to know before we start:\n",
    "* 💡 -> the lightbulb emoji means thers an **important information**.\n",
    "* 🧑‍💻 -> the Person Behind Computer emoji means thers an **task** waiting for you.\n",
    "* This is not an exam, it's an opportunity to learn something new. You will get stuck at some point -- don't hesitate to ask questions to the Mito team, your colleagues, or Stack Overflow.\n",
    "* Most imporantly: Enjoy the joureny!"
   ]
  },
  {
   "cell_type": "markdown",
   "metadata": {},
   "source": [
    "## Objects in Blender\n"
   ]
  },
  {
   "cell_type": "code",
   "execution_count": 17,
   "metadata": {},
   "outputs": [],
   "source": [
    "import bpy"
   ]
  },
  {
   "cell_type": "markdown",
   "metadata": {},
   "source": [
    "💡 The below code will select the default cube and create a variable"
   ]
  },
  {
   "cell_type": "code",
   "execution_count": 18,
   "metadata": {},
   "outputs": [
    {
     "name": "stdout",
     "output_type": "stream",
     "text": [
      "<bpy_struct, Object(\"Cube\") at 0x14474f008>\n"
     ]
    }
   ],
   "source": [
    "cube = bpy.context.active_object\n",
    "print(cube)"
   ]
  },
  {
   "cell_type": "markdown",
   "metadata": {},
   "source": [
    "Now, we display attributes of the cube into the output.   \n",
    "🧑‍💻 Run `cube.location` , `cube.scale` and `len(cube.data.vertices)`.  \n",
    "💡 After writing `cube.` followed by the \"Tab\" key you will get suggestions from auto complete.  \n"
   ]
  },
  {
   "cell_type": "code",
   "execution_count": 19,
   "metadata": {},
   "outputs": [],
   "source": [
    "# TODO replace me with your code"
   ]
  },
  {
   "cell_type": "markdown",
   "metadata": {},
   "source": [
    "🧑‍💻  Now, manipulate the cube.\n",
    "1. Set the z location with `cube.location.z = 2`\n",
    "2. Scale the cube with `cube.scale = (1, 1, 2)`\n",
    "3. "
   ]
  },
  {
   "cell_type": "code",
   "execution_count": 20,
   "metadata": {},
   "outputs": [],
   "source": [
    "# TODO replace me with your code\n"
   ]
  },
  {
   "cell_type": "markdown",
   "metadata": {},
   "source": [
    "💡 We can also add default objects (torus, monkey, plane, ...) and select them with `obj = bpy.context.active_object`"
   ]
  },
  {
   "cell_type": "code",
   "execution_count": 34,
   "metadata": {},
   "outputs": [],
   "source": [
    "bpy.ops.mesh.primitive_monkey_add(size=2.5, location=(0, 0, 3))\n",
    "monkey = bpy.context.active_object\n",
    "\n",
    "bpy.ops.mesh.primitive_torus_add(major_radius=2, minor_radius=0.3, location=(0,0, 2))\n",
    "tours = bpy.context.active_object\n",
    "\n",
    "bpy.ops.mesh.primitive_plane_add(size=3, location=(0, 0, 1.1))  \n",
    "plane = bpy.context.active_object"
   ]
  },
  {
   "cell_type": "markdown",
   "metadata": {},
   "source": [
    "💡 Objects can also be removed"
   ]
  },
  {
   "cell_type": "code",
   "execution_count": 35,
   "metadata": {},
   "outputs": [],
   "source": [
    "bpy.data.objects.remove(tours)"
   ]
  },
  {
   "cell_type": "markdown",
   "metadata": {},
   "source": [
    " 🧑‍💻 Now, delete the monkey and the plane as well."
   ]
  },
  {
   "cell_type": "code",
   "execution_count": 23,
   "metadata": {},
   "outputs": [],
   "source": [
    "# TODO replace me with your code"
   ]
  }
 ],
 "metadata": {
  "kernelspec": {
   "display_name": "blender",
   "language": "python",
   "name": "blender"
  },
  "language_info": {
   "codemirror_mode": {
    "name": "ipython",
    "version": 3
   },
   "file_extension": ".py",
   "mimetype": "text/x-python",
   "name": "python",
   "nbconvert_exporter": "python",
   "pygments_lexer": "ipython3",
   "version": "3.11.7"
  }
 },
 "nbformat": 4,
 "nbformat_minor": 2
}
