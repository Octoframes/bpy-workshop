{
 "cells": [
  {
   "cell_type": "code",
   "execution_count": 1,
   "id": "5ade7292-4412-4b40-85f8-676ac0ac5c9b",
   "metadata": {},
   "outputs": [],
   "source": [
    "import bpy\n",
    "\n",
    "# Operator for the button\n",
    "class CatEmojiButtonOperator(bpy.types.Operator):\n",
    "    bl_idname = \"wm.cat_emoji_button_operator\"\n",
    "    bl_label = \"Cat Emoji Button\"\n",
    "\n",
    "    def execute(self, context):\n",
    "        self.report({'INFO'}, \"🐱 Meow! Button Clicked!\")\n",
    "        return {'FINISHED'}\n",
    "\n",
    "# Function to draw the button\n",
    "def draw_cat_emoji_button(self, context):\n",
    "    layout = self.layout\n",
    "    layout.operator(\"wm.cat_emoji_button_operator\", text=\"🐱\", emboss=True)\n",
    "\n",
    "# Register the operator and append the button\n",
    "bpy.utils.register_class(CatEmojiButtonOperator)\n",
    "bpy.types.VIEW3D_HT_header.append(draw_cat_emoji_button)"
   ]
  },
  {
   "cell_type": "code",
   "execution_count": null,
   "id": "5d2e6feb-96e3-4eb9-8dc3-239182b12302",
   "metadata": {},
   "outputs": [],
   "source": [
    "# Unregister the operator and remove the button\n",
    "bpy.utils.unregister_class(CatEmojiButtonOperator)\n",
    "bpy.types.VIEW3D_HT_header.remove(draw_cat_emoji_button)"
   ]
  },
  {
   "cell_type": "code",
   "execution_count": null,
   "id": "2f26c7bf-20a6-4dee-aa52-12b0c6117f25",
   "metadata": {},
   "outputs": [],
   "source": [
    "import bpy\n",
    "print(\"All Registered Classes in Blender:\")\n",
    "for cls_name in dir(bpy.types):\n",
    "    cls = getattr(bpy.types, cls_name)\n",
    "    if isinstance(cls, type):\n",
    "        print(cls)"
   ]
  },
  {
   "cell_type": "code",
   "execution_count": null,
   "id": "3e3f9c17",
   "metadata": {},
   "outputs": [],
   "source": []
  }
 ],
 "metadata": {
  "kernelspec": {
   "display_name": "blender",
   "language": "python",
   "name": "blender"
  },
  "language_info": {
   "codemirror_mode": {
    "name": "ipython",
    "version": 3
   },
   "file_extension": ".py",
   "mimetype": "text/x-python",
   "name": "python",
   "nbconvert_exporter": "python",
   "pygments_lexer": "ipython3",
   "version": "3.11.9"
  }
 },
 "nbformat": 4,
 "nbformat_minor": 5
}
