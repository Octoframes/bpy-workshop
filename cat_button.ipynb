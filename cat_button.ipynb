{
 "cells": [
  {
   "cell_type": "code",
   "execution_count": null,
   "id": "73945236",
   "metadata": {},
   "outputs": [
    {
     "name": "stdout",
     "output_type": "stream",
     "text": [
      "Info: 😺📥 Meow ! \n",
      "Info: 😺📥 Meow ! \n",
      "Info: 😺📥 Meow ! \n",
      "Info: 😺📥 Meow ! \n",
      "Info: 😺📥 Meow ! \n",
      "Info: 😺📥 Meow ! \n",
      "Info: 😺📥 Meow ! \n",
      "Info: 😺📥 Meow ! \n"
     ]
    }
   ],
   "source": [
    "def report(self):\n"
   ]
  },
  {
   "cell_type": "code",
   "execution_count": null,
   "id": "7dc9bf22",
   "metadata": {},
   "outputs": [
    {
     "name": "stdout",
     "output_type": "stream",
     "text": [
      "register_class(...):\n",
      "Info: Registering operator class: 'CatEmojiButtonOperator', bl_idname 'wm.cat_emoji_button_operator' has been registered before, unregistering previous\n",
      "register_class(...):\n",
      "Info: Registering panel class: 'WORLD_PT_cat_emoji_panel', bl_idname 'WORLD_PT_cat_emoji_panel' has been registered before, unregistering previous\n"
     ]
    },
    {
     "name": "stdout",
     "output_type": "stream",
     "text": [
      "Info: 😺📥 Meow ! \n",
      "Info: 😺📥 Meow ! \n",
      "Info: 😺📥 Meow ! \n",
      "Info: 😺📥 Meow ! \n",
      "Info: 😺📥 Meow ! \n",
      "Info: 😺📥 Meow ! \n"
     ]
    }
   ],
   "source": [
    "import bpy\n",
    "\n",
    "# Operator for the button\n",
    "class CatEmojiButtonOperator(bpy.types.Operator):\n",
    "    bl_idname = \"wm.cat_emoji_button_operator\"\n",
    "    bl_label = \"Cat Emoji Button\"\n",
    "\n",
    "    def execute(self, context):\n",
    "        self.report({'INFO'}, \"😺📥 Meow ! \")\n",
    "        return {'FINISHED'}\n",
    "\n",
    "# Function to add the button to the World Scene Panel\n",
    "class WORLD_PT_cat_emoji_panel(bpy.types.Panel):\n",
    "    bl_label = \"Cat Emoji\"\n",
    "    bl_idname = \"WORLD_PT_cat_emoji_panel\"\n",
    "    bl_space_type = 'PROPERTIES'\n",
    "    bl_region_type = 'WINDOW'\n",
    "    bl_context = \"world\"  # This targets the World Properties tab\n",
    "\n",
    "    def draw(self, context):\n",
    "        layout = self.layout\n",
    "        layout.operator(\"wm.cat_emoji_button_operator\", text=\"😺📥 Meow import\", emboss=True)\n",
    "\n",
    "# Register the operator and the panel\n",
    "def register():\n",
    "    bpy.utils.register_class(CatEmojiButtonOperator)\n",
    "    bpy.utils.register_class(WORLD_PT_cat_emoji_panel)\n",
    "\n",
    "# Unregister the operator and the panel\n",
    "def unregister():\n",
    "    bpy.utils.unregister_class(WORLD_PT_cat_emoji_panel)\n",
    "    bpy.utils.unregister_class(CatEmojiButtonOperator)\n",
    "\n",
    "# Call the register function to initialize the button and panel\n",
    "register()"
   ]
  },
  {
   "cell_type": "code",
   "execution_count": null,
   "id": "e376df59",
   "metadata": {},
   "outputs": [],
   "source": []
  }
 ],
 "metadata": {
  "kernelspec": {
   "display_name": "blender",
   "language": "python",
   "name": "blender"
  },
  "language_info": {
   "codemirror_mode": {
    "name": "ipython",
    "version": 3
   },
   "file_extension": ".py",
   "mimetype": "text/x-python",
   "name": "python",
   "nbconvert_exporter": "python",
   "pygments_lexer": "ipython3",
   "version": "3.11.9"
  }
 },
 "nbformat": 4,
 "nbformat_minor": 5
}
